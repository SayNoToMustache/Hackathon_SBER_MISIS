{
 "cells": [
  {
   "cell_type": "code",
   "execution_count": 8,
   "metadata": {
    "collapsed": true,
    "ExecuteTime": {
     "end_time": "2023-07-01T08:02:55.786530173Z",
     "start_time": "2023-07-01T08:02:50.396392468Z"
    }
   },
   "outputs": [
    {
     "data": {
      "text/plain": "{'AFLT': {'mean_absolute_error': 0.1830584196075988,\n  'r2_score': 0.9995561014399683},\n 'ALRS': {'mean_absolute_error': 0.4428067733450844,\n  'r2_score': 0.9991856093339897},\n 'GAZP': {'mean_absolute_error': 1.0761971041721061,\n  'r2_score': 0.9989444379945562},\n 'GMKN': {'mean_absolute_error': 78.98456453848007,\n  'r2_score': 0.9987802317396153},\n 'HYDR': {'mean_absolute_error': 0.0024685250814898765,\n  'r2_score': 0.9898733269897054},\n 'IRAO': {'mean_absolute_error': 0.015337971927574183,\n  'r2_score': 0.999044078462003},\n 'LKOH': {'mean_absolute_error': 21.642807830575194,\n  'r2_score': 0.9983903179540801},\n 'MGNT': {'mean_absolute_error': 20.415010820011247,\n  'r2_score': 0.9957202325916908},\n 'MOEX': {'mean_absolute_error': 0.5106795127103749,\n  'r2_score': 0.9993769298242466},\n 'MTLR': {'mean_absolute_error': 0.9814610890127456,\n  'r2_score': 0.9970924047775135},\n 'MTSS': {'mean_absolute_error': 0.8559207200391131,\n  'r2_score': 0.9986346365723576},\n 'NLMK': {'mean_absolute_error': 0.8091390881379036,\n  'r2_score': 0.9992880550580975},\n 'ROSN': {'mean_absolute_error': 1.9607502209190235,\n  'r2_score': 0.9989130872483817},\n 'RTSI': {'mean_absolute_error': 5.5766773527458735,\n  'r2_score': 0.9992322551916639},\n 'SBER': {'mean_absolute_error': 0.8998364210741687,\n  'r2_score': 0.9996298202281346},\n 'SNGS': {'mean_absolute_error': 0.1460097166321272,\n  'r2_score': 0.9981562140170162},\n 'VTBR': {'mean_absolute_error': 0.0001948636330369199,\n  'r2_score': 0.9993195572338199},\n 'YNDX': {'mean_absolute_error': 17.30286531172026,\n  'r2_score': 0.9996663424196567}}"
     },
     "execution_count": 8,
     "metadata": {},
     "output_type": "execute_result"
    }
   ],
   "source": [
    "import pandas as pd\n",
    "import warnings\n",
    "from sklearn.model_selection import train_test_split\n",
    "from sklearn.linear_model import LinearRegression\n",
    "from xgboost import XGBRegressor\n",
    "from sklearn.metrics import mean_absolute_error, r2_score\n",
    "\n",
    "warnings.filterwarnings('ignore')\n",
    "\n",
    "data = pd.read_csv('../CSV/FullMain.csv')\n",
    "\n",
    "results = {}\n",
    "\n",
    "tickers = data['<TICKER>'].unique()\n",
    "\n",
    "for ticker in tickers:\n",
    "\n",
    "    ticker_data = data[data['<TICKER>'] == ticker]\n",
    "    ticker_data['prev_open'] = ticker_data['<OPEN>'].shift(14)\n",
    "    ticker_data['prev_high'] = ticker_data['<HIGH>'].shift(14)\n",
    "    ticker_data['prev_close'] = ticker_data['<CLOSE>'].shift(14)\n",
    "    ticker_data['prev_low'] = ticker_data['<LOW>'].shift(14)\n",
    "    ticker_data['prev_vol'] = ticker_data['<VOL>'].shift(14)\n",
    "    ticker_data.rename(columns={'<OPEN>': 'OPEN', '<CLOSE>':'CLOSE'}, inplace=True)\n",
    "    ticker_data = ticker_data.drop(ticker_data.index[:14])\n",
    "    ticker_data = ticker_data.reset_index(drop=True)\n",
    "\n",
    "    X = ticker_data[['prev_open', 'prev_high', 'prev_close', 'prev_low', 'prev_vol', 'OPEN']]\n",
    "    y = ticker_data['CLOSE']\n",
    "\n",
    "    X_train, X_test, y_train, y_test = train_test_split(X, y, test_size=0.2, random_state=42)\n",
    "\n",
    "    model = XGBRegressor()\n",
    "    model.fit(X_train, y_train)\n",
    "\n",
    "\n",
    "\n",
    "    y_pred = model.predict(X_test)\n",
    "\n",
    "    mae = mean_absolute_error(y_test, y_pred)\n",
    "    r2 = r2_score(y_test, y_pred)\n",
    "\n",
    "    results[ticker] = {'mean_absolute_error': mae, 'r2_score': r2}\n",
    "\n",
    "results"
   ]
  },
  {
   "cell_type": "code",
   "execution_count": 23,
   "outputs": [
    {
     "name": "stdout",
     "output_type": "stream",
     "text": [
      "Fitting 3 folds for each of 36 candidates, totalling 108 fits\n",
      "Best parameters for AFLT: {'learning_rate': 0.05, 'max_depth': 4, 'n_estimators': 200}\n",
      "Fitting 3 folds for each of 36 candidates, totalling 108 fits\n",
      "Best parameters for ALRS: {'learning_rate': 0.03, 'max_depth': 4, 'n_estimators': 250}\n",
      "Fitting 3 folds for each of 36 candidates, totalling 108 fits\n",
      "Best parameters for GAZP: {'learning_rate': 0.03, 'max_depth': 6, 'n_estimators': 250}\n",
      "Fitting 3 folds for each of 36 candidates, totalling 108 fits\n",
      "Best parameters for GMKN: {'learning_rate': 0.05, 'max_depth': 4, 'n_estimators': 200}\n",
      "Fitting 3 folds for each of 36 candidates, totalling 108 fits\n",
      "Best parameters for HYDR: {'learning_rate': 0.03, 'max_depth': 4, 'n_estimators': 250}\n",
      "Fitting 3 folds for each of 36 candidates, totalling 108 fits\n",
      "Best parameters for IRAO: {'learning_rate': 0.05, 'max_depth': 4, 'n_estimators': 200}\n",
      "Fitting 3 folds for each of 36 candidates, totalling 108 fits\n",
      "Best parameters for LKOH: {'learning_rate': 0.05, 'max_depth': 4, 'n_estimators': 200}\n",
      "Fitting 3 folds for each of 36 candidates, totalling 108 fits\n",
      "Best parameters for MGNT: {'learning_rate': 0.05, 'max_depth': 5, 'n_estimators': 200}\n",
      "Fitting 3 folds for each of 36 candidates, totalling 108 fits\n",
      "Best parameters for MOEX: {'learning_rate': 0.05, 'max_depth': 4, 'n_estimators': 200}\n",
      "Fitting 3 folds for each of 36 candidates, totalling 108 fits\n",
      "Best parameters for MTLR: {'learning_rate': 0.05, 'max_depth': 4, 'n_estimators': 150}\n",
      "Fitting 3 folds for each of 36 candidates, totalling 108 fits\n",
      "Best parameters for MTSS: {'learning_rate': 0.05, 'max_depth': 5, 'n_estimators': 200}\n",
      "Fitting 3 folds for each of 36 candidates, totalling 108 fits\n",
      "Best parameters for NLMK: {'learning_rate': 0.03, 'max_depth': 4, 'n_estimators': 250}\n",
      "Fitting 3 folds for each of 36 candidates, totalling 108 fits\n",
      "Best parameters for ROSN: {'learning_rate': 0.05, 'max_depth': 5, 'n_estimators': 200}\n",
      "Fitting 3 folds for each of 36 candidates, totalling 108 fits\n",
      "Best parameters for RTSI: {'learning_rate': 0.05, 'max_depth': 4, 'n_estimators': 250}\n",
      "Fitting 3 folds for each of 36 candidates, totalling 108 fits\n",
      "Best parameters for SBER: {'learning_rate': 0.03, 'max_depth': 5, 'n_estimators': 250}\n",
      "Fitting 3 folds for each of 36 candidates, totalling 108 fits\n",
      "Best parameters for SNGS: {'learning_rate': 0.05, 'max_depth': 4, 'n_estimators': 200}\n",
      "Fitting 3 folds for each of 36 candidates, totalling 108 fits\n",
      "Best parameters for VTBR: {'learning_rate': 0.05, 'max_depth': 6, 'n_estimators': 250}\n",
      "Fitting 3 folds for each of 36 candidates, totalling 108 fits\n",
      "Best parameters for YNDX: {'learning_rate': 0.03, 'max_depth': 4, 'n_estimators': 250}\n"
     ]
    }
   ],
   "source": [
    "import pandas as pd\n",
    "import warnings\n",
    "from sklearn.model_selection import train_test_split, GridSearchCV\n",
    "from sklearn.linear_model import LinearRegression\n",
    "import xgboost as xgb\n",
    "from sklearn.metrics import mean_absolute_error, r2_score\n",
    "\n",
    "warnings.filterwarnings('ignore')\n",
    "\n",
    "data = pd.read_csv('../CSV/FullMain.csv')\n",
    "\n",
    "results = {}\n",
    "\n",
    "tickers = data['<TICKER>'].unique()\n",
    "\n",
    "for ticker in tickers:\n",
    "\n",
    "    ticker_data = data[data['<TICKER>'] == ticker]\n",
    "    ticker_data['prev_open'] = ticker_data['<OPEN>'].shift(14)\n",
    "    ticker_data['prev_high'] = ticker_data['<HIGH>'].shift(14)\n",
    "    ticker_data['prev_close'] = ticker_data['<CLOSE>'].shift(14)\n",
    "    ticker_data['prev_low'] = ticker_data['<LOW>'].shift(14)\n",
    "    ticker_data['prev_vol'] = ticker_data['<VOL>'].shift(14)\n",
    "    ticker_data.rename(columns={'<OPEN>': 'OPEN', '<CLOSE>':'CLOSE'}, inplace=True)\n",
    "    ticker_data = ticker_data.drop(ticker_data.index[:14])\n",
    "    ticker_data = ticker_data.reset_index(drop=True)\n",
    "\n",
    "    X = ticker_data[['prev_open', 'prev_high', 'prev_close', 'prev_low', 'prev_vol', 'OPEN']]\n",
    "    y = ticker_data['CLOSE']\n",
    "\n",
    "    X_train, X_test, y_train, y_test = train_test_split(X, y, test_size=0.2, random_state=42)\n",
    "\n",
    "    xgb_model = xgb.XGBRegressor()\n",
    "\n",
    "    params = {\n",
    "        'learning_rate': [0.01, 0.03, 0.05, 0.07],\n",
    "        'max_depth': [4, 5, 6],\n",
    "        'n_estimators': [150, 200, 250]\n",
    "    }\n",
    "\n",
    "    grid_search = GridSearchCV(estimator=xgb_model, param_grid=params, scoring='neg_mean_absolute_error', cv=3, verbose=1)\n",
    "\n",
    "    grid_search.fit(X_train, y_train)\n",
    "\n",
    "    best_params = grid_search.best_params_\n",
    "\n",
    "    print(f\"Best parameters for {ticker}: {best_params}\")\n",
    "    # y_pred = cv_model.predict(X_test)\n",
    "\n",
    "#     mae = mean_absolute_error(y_test, y_pred)\n",
    "#     r2 = r2_score(y_test, y_pred)\n",
    "#\n",
    "#     results[ticker] = {'mean_absolute_error': mae, 'r2_score': r2}\n",
    "#\n",
    "# results"
   ],
   "metadata": {
    "collapsed": false,
    "ExecuteTime": {
     "end_time": "2023-07-01T08:52:01.305836978Z",
     "start_time": "2023-07-01T08:40:15.065825428Z"
    }
   }
  },
  {
   "cell_type": "code",
   "execution_count": 34,
   "outputs": [
    {
     "data": {
      "text/plain": "{'AFLT': {'mean_absolute_error': 0.16177808433081617,\n  'r2_score': 0.9996642622569858},\n 'ALRS': {'mean_absolute_error': 0.40707213129666286,\n  'r2_score': 0.9991896888791142},\n 'GAZP': {'mean_absolute_error': 0.9866662668262471,\n  'r2_score': 0.9991144090287288},\n 'GMKN': {'mean_absolute_error': 70.71710503193285,\n  'r2_score': 0.9989869564671904},\n 'HYDR': {'mean_absolute_error': 0.00224232900743313,\n  'r2_score': 0.990708379167234},\n 'IRAO': {'mean_absolute_error': 0.014462619160012298,\n  'r2_score': 0.9989477406714792},\n 'LKOH': {'mean_absolute_error': 20.149583674335236,\n  'r2_score': 0.9981127689681838},\n 'MGNT': {'mean_absolute_error': 19.143097943695775,\n  'r2_score': 0.9964831576880735},\n 'MOEX': {'mean_absolute_error': 0.45311555073009957,\n  'r2_score': 0.9994522823000497},\n 'MTLR': {'mean_absolute_error': 0.8774450719431917,\n  'r2_score': 0.9974901253207968},\n 'MTSS': {'mean_absolute_error': 0.7581437941994951,\n  'r2_score': 0.9989349767478908},\n 'NLMK': {'mean_absolute_error': 0.7368952914436557,\n  'r2_score': 0.9993467891258042},\n 'ROSN': {'mean_absolute_error': 1.7261881928823908,\n  'r2_score': 0.9990249657265958},\n 'RTSI': {'mean_absolute_error': 4.9599960701010515,\n  'r2_score': 0.9993357170713597},\n 'SBER': {'mean_absolute_error': 0.8284467613788985,\n  'r2_score': 0.9996659168785595},\n 'SNGS': {'mean_absolute_error': 0.13545811140751782,\n  'r2_score': 0.9981929825557254},\n 'VTBR': {'mean_absolute_error': 0.00014221644285788564,\n  'r2_score': 0.999689623336428},\n 'YNDX': {'mean_absolute_error': 15.591534592824381,\n  'r2_score': 0.9996988015918842}}"
     },
     "execution_count": 34,
     "metadata": {},
     "output_type": "execute_result"
    }
   ],
   "source": [
    "import pandas as pd\n",
    "import warnings\n",
    "from sklearn.model_selection import train_test_split\n",
    "from sklearn.linear_model import LinearRegression\n",
    "from xgboost import XGBRegressor\n",
    "from sklearn.metrics import mean_absolute_error, r2_score\n",
    "\n",
    "warnings.filterwarnings('ignore')\n",
    "\n",
    "data = pd.read_csv('../CSV/FullMain.csv')\n",
    "\n",
    "results = {}\n",
    "\n",
    "tickers = data['<TICKER>'].unique()\n",
    "\n",
    "for ticker in tickers:\n",
    "\n",
    "    ticker_data = data[data['<TICKER>'] == ticker]\n",
    "    ticker_data['prev_open'] = ticker_data['<OPEN>'].shift(14)\n",
    "    ticker_data['prev_high'] = ticker_data['<HIGH>'].shift(14)\n",
    "    ticker_data['prev_close'] = ticker_data['<CLOSE>'].shift(14)\n",
    "    ticker_data['prev_low'] = ticker_data['<LOW>'].shift(14)\n",
    "    ticker_data['prev_vol'] = ticker_data['<VOL>'].shift(14)\n",
    "    ticker_data.rename(columns={'<OPEN>': 'OPEN', '<CLOSE>':'CLOSE'}, inplace=True)\n",
    "    ticker_data = ticker_data.drop(ticker_data.index[:14])\n",
    "    ticker_data = ticker_data.reset_index(drop=True)\n",
    "\n",
    "    X = ticker_data[['prev_open', 'prev_high', 'prev_close', 'prev_low', 'prev_vol', 'OPEN']]\n",
    "    y = ticker_data['CLOSE']\n",
    "\n",
    "    X_train, X_test, y_train, y_test = train_test_split(X, y, test_size=0.2, random_state=42)\n",
    "\n",
    "    params={'learning_rate': 0.05, 'max_depth': 4, 'n_estimators': 250}\n",
    "    model = XGBRegressor(**params)\n",
    "    # model = XGBRegressor()\n",
    "    model.fit(X_train, y_train)\n",
    "\n",
    "    y_pred = model.predict(X_test)\n",
    "\n",
    "    mae = mean_absolute_error(y_test, y_pred)\n",
    "    r2 = r2_score(y_test, y_pred)\n",
    "\n",
    "    results[ticker] = {'mean_absolute_error': mae, 'r2_score': r2}\n",
    "\n",
    "results"
   ],
   "metadata": {
    "collapsed": false,
    "ExecuteTime": {
     "end_time": "2023-07-01T09:32:14.646618337Z",
     "start_time": "2023-07-01T09:32:05.805402942Z"
    }
   }
  }
 ],
 "metadata": {
  "kernelspec": {
   "display_name": "Python 3",
   "language": "python",
   "name": "python3"
  },
  "language_info": {
   "codemirror_mode": {
    "name": "ipython",
    "version": 2
   },
   "file_extension": ".py",
   "mimetype": "text/x-python",
   "name": "python",
   "nbconvert_exporter": "python",
   "pygments_lexer": "ipython2",
   "version": "2.7.6"
  }
 },
 "nbformat": 4,
 "nbformat_minor": 0
}
