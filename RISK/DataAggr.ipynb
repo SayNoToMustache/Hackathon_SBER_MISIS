{
 "cells": [
  {
   "cell_type": "code",
   "execution_count": 10,
   "outputs": [],
   "source": [
    "import pandas as pd\n",
    "\n",
    "def daily_aggr():\n",
    "    data = pd.read_csv('../CSV/FullMain.csv')\n",
    "\n",
    "    data['DATE'] = pd.to_datetime(data['<DATETIME>'].str.split(' ').str[0])\n",
    "\n",
    "    daily_data = data.groupby(['<TICKER>', 'DATE']).agg({\n",
    "        '<OPEN>': 'first',\n",
    "        '<CLOSE>': 'last',\n",
    "        '<HIGH>': 'max',\n",
    "        '<LOW>': 'min',\n",
    "        '<VOL>': 'sum',\n",
    "    }).reset_index()\n",
    "\n",
    "    daily_data.columns = ['<TICKER>', '<DATE>', '<OPEN>', '<CLOSE>', '<HIGH>', '<LOW>', '<VOL>']\n",
    "\n",
    "    daily_data.head()\n",
    "    return daily_data"
   ],
   "metadata": {
    "collapsed": false,
    "ExecuteTime": {
     "end_time": "2023-07-01T13:03:40.689738664Z",
     "start_time": "2023-07-01T13:03:40.689559536Z"
    }
   }
  },
  {
   "cell_type": "code",
   "execution_count": 12,
   "outputs": [],
   "source": [
    "daily_aggr().to_csv('../CSV/FullMainDaily.csv')"
   ],
   "metadata": {
    "collapsed": false,
    "ExecuteTime": {
     "end_time": "2023-07-01T13:04:04.170263767Z",
     "start_time": "2023-07-01T13:04:04.024113390Z"
    }
   }
  }
 ],
 "metadata": {
  "kernelspec": {
   "display_name": "Python 3",
   "language": "python",
   "name": "python3"
  },
  "language_info": {
   "codemirror_mode": {
    "name": "ipython",
    "version": 2
   },
   "file_extension": ".py",
   "mimetype": "text/x-python",
   "name": "python",
   "nbconvert_exporter": "python",
   "pygments_lexer": "ipython2",
   "version": "2.7.6"
  }
 },
 "nbformat": 4,
 "nbformat_minor": 0
}
