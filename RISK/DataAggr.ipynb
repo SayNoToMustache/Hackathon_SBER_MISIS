{
 "cells": [
  {
   "cell_type": "code",
   "execution_count": 1,
   "outputs": [],
   "source": [
    "import pandas as pd\n",
    "\n",
    "def daily_aggr():\n",
    "    data = pd.read_csv('../CSV/FullMain.csv')\n",
    "\n",
    "    data['DATE'] = pd.to_datetime(data['<DATETIME>'].str.split(' ').str[0])\n",
    "\n",
    "    daily_data = data.groupby(['<TICKER>', 'DATE']).agg({\n",
    "        '<OPEN>': 'first',\n",
    "        '<CLOSE>': 'last',\n",
    "        '<HIGH>': 'max',\n",
    "        '<LOW>': 'min'\n",
    "    }).reset_index()\n",
    "\n",
    "    daily_data.columns = ['TICKER', 'DATE', 'Open', 'Close', 'High', 'Low']\n",
    "\n",
    "    daily_data.head()\n",
    "    return daily_data"
   ],
   "metadata": {
    "collapsed": false,
    "ExecuteTime": {
     "end_time": "2023-07-01T12:25:47.864366293Z",
     "start_time": "2023-07-01T12:25:47.765459304Z"
    }
   }
  },
  {
   "cell_type": "code",
   "execution_count": 2,
   "outputs": [
    {
     "data": {
      "text/plain": "      TICKER       DATE     Open    Close     High      Low\n0       AFLT 2021-01-11    73.36    74.02    74.56    72.68\n1       AFLT 2021-01-12    74.04    74.04    74.54    73.12\n2       AFLT 2021-01-13    74.04    73.52    74.38    72.92\n3       AFLT 2021-01-14    73.50    73.22    73.76    72.74\n4       AFLT 2021-01-15    73.20    72.36    73.60    72.08\n...      ...        ...      ...      ...      ...      ...\n12237   YNDX 2023-05-27  2322.80  2322.00  2324.80  2319.00\n12238   YNDX 2023-05-29  2334.80  2386.40  2410.00  2295.60\n12239   YNDX 2023-05-30  2387.00  2307.60  2397.00  2263.00\n12240   YNDX 2023-05-31  2307.20  2322.40  2353.00  2244.20\n12241   YNDX 2023-06-01  2323.80  2324.20  2326.00  2320.20\n\n[12242 rows x 6 columns]",
      "text/html": "<div>\n<style scoped>\n    .dataframe tbody tr th:only-of-type {\n        vertical-align: middle;\n    }\n\n    .dataframe tbody tr th {\n        vertical-align: top;\n    }\n\n    .dataframe thead th {\n        text-align: right;\n    }\n</style>\n<table border=\"1\" class=\"dataframe\">\n  <thead>\n    <tr style=\"text-align: right;\">\n      <th></th>\n      <th>TICKER</th>\n      <th>DATE</th>\n      <th>Open</th>\n      <th>Close</th>\n      <th>High</th>\n      <th>Low</th>\n    </tr>\n  </thead>\n  <tbody>\n    <tr>\n      <th>0</th>\n      <td>AFLT</td>\n      <td>2021-01-11</td>\n      <td>73.36</td>\n      <td>74.02</td>\n      <td>74.56</td>\n      <td>72.68</td>\n    </tr>\n    <tr>\n      <th>1</th>\n      <td>AFLT</td>\n      <td>2021-01-12</td>\n      <td>74.04</td>\n      <td>74.04</td>\n      <td>74.54</td>\n      <td>73.12</td>\n    </tr>\n    <tr>\n      <th>2</th>\n      <td>AFLT</td>\n      <td>2021-01-13</td>\n      <td>74.04</td>\n      <td>73.52</td>\n      <td>74.38</td>\n      <td>72.92</td>\n    </tr>\n    <tr>\n      <th>3</th>\n      <td>AFLT</td>\n      <td>2021-01-14</td>\n      <td>73.50</td>\n      <td>73.22</td>\n      <td>73.76</td>\n      <td>72.74</td>\n    </tr>\n    <tr>\n      <th>4</th>\n      <td>AFLT</td>\n      <td>2021-01-15</td>\n      <td>73.20</td>\n      <td>72.36</td>\n      <td>73.60</td>\n      <td>72.08</td>\n    </tr>\n    <tr>\n      <th>...</th>\n      <td>...</td>\n      <td>...</td>\n      <td>...</td>\n      <td>...</td>\n      <td>...</td>\n      <td>...</td>\n    </tr>\n    <tr>\n      <th>12237</th>\n      <td>YNDX</td>\n      <td>2023-05-27</td>\n      <td>2322.80</td>\n      <td>2322.00</td>\n      <td>2324.80</td>\n      <td>2319.00</td>\n    </tr>\n    <tr>\n      <th>12238</th>\n      <td>YNDX</td>\n      <td>2023-05-29</td>\n      <td>2334.80</td>\n      <td>2386.40</td>\n      <td>2410.00</td>\n      <td>2295.60</td>\n    </tr>\n    <tr>\n      <th>12239</th>\n      <td>YNDX</td>\n      <td>2023-05-30</td>\n      <td>2387.00</td>\n      <td>2307.60</td>\n      <td>2397.00</td>\n      <td>2263.00</td>\n    </tr>\n    <tr>\n      <th>12240</th>\n      <td>YNDX</td>\n      <td>2023-05-31</td>\n      <td>2307.20</td>\n      <td>2322.40</td>\n      <td>2353.00</td>\n      <td>2244.20</td>\n    </tr>\n    <tr>\n      <th>12241</th>\n      <td>YNDX</td>\n      <td>2023-06-01</td>\n      <td>2323.80</td>\n      <td>2324.20</td>\n      <td>2326.00</td>\n      <td>2320.20</td>\n    </tr>\n  </tbody>\n</table>\n<p>12242 rows × 6 columns</p>\n</div>"
     },
     "execution_count": 2,
     "metadata": {},
     "output_type": "execute_result"
    }
   ],
   "source": [
    "daily_aggr()"
   ],
   "metadata": {
    "collapsed": false,
    "ExecuteTime": {
     "end_time": "2023-07-01T12:25:47.994337087Z",
     "start_time": "2023-07-01T12:25:47.865185683Z"
    }
   }
  }
 ],
 "metadata": {
  "kernelspec": {
   "display_name": "Python 3",
   "language": "python",
   "name": "python3"
  },
  "language_info": {
   "codemirror_mode": {
    "name": "ipython",
    "version": 2
   },
   "file_extension": ".py",
   "mimetype": "text/x-python",
   "name": "python",
   "nbconvert_exporter": "python",
   "pygments_lexer": "ipython2",
   "version": "2.7.6"
  }
 },
 "nbformat": 4,
 "nbformat_minor": 0
}
